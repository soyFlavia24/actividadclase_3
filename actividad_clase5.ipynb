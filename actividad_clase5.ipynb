{
 "cells": [
  {
   "cell_type": "code",
   "execution_count": null,
   "metadata": {},
   "outputs": [],
   "source": []
  },
  {
   "cell_type": "markdown",
   "metadata": {},
   "source": [
    "##ACTIVIDAD CLASE PDF\n",
    "1- Ingresar dos numeros por teclado a y b .Si a es mayor que b,imprimir \"hola politecnico malvinas\"\n"
   ]
  },
  {
   "cell_type": "code",
   "execution_count": 2,
   "metadata": {},
   "outputs": [
    {
     "name": "stdout",
     "output_type": "stream",
     "text": [
      "hola politecnico malvinas\n"
     ]
    }
   ],
   "source": [
    "a=int(input(\"numero:1\"))\n",
    "b=int(input(\"numero:2\"))\n",
    "if a>b:\n",
    "    print(\"hola politecnico malvinas\")\n"
   ]
  },
  {
   "cell_type": "markdown",
   "metadata": {},
   "source": [
    "2- Ingresar dos numeros por teclado ,a y b.Si no es igual a b,imprimir \"hola politecnico malvinas\""
   ]
  },
  {
   "cell_type": "code",
   "execution_count": 3,
   "metadata": {},
   "outputs": [
    {
     "name": "stdout",
     "output_type": "stream",
     "text": [
      "hola politecnico malvinas\n"
     ]
    }
   ],
   "source": [
    "a=int(input(\"numero:1\"))\n",
    "b=int(input(\"numero:2\"))\n",
    "if a!=b:\n",
    "    print(\"hola politecnico malvinas\")\n",
    "    "
   ]
  },
  {
   "cell_type": "markdown",
   "metadata": {},
   "source": [
    "3-Ingresar dos numeros por teclado ,a y b.Si a es igual a b,imprimir\" son iguales\".Si no imprimir ,\"son distintos"
   ]
  },
  {
   "cell_type": "code",
   "execution_count": 7,
   "metadata": {},
   "outputs": [
    {
     "name": "stdout",
     "output_type": "stream",
     "text": [
      "son distintos\n"
     ]
    }
   ],
   "source": [
    "a=int(input(\"el numero es:a\"))\n",
    "b=int(input(\"el numero es:b\"))\n",
    "if a == b:\n",
    "   print(\"son iguales\")\n",
    "else:\n",
    "   print(\"son distintos\")"
   ]
  },
  {
   "cell_type": "markdown",
   "metadata": {},
   "source": [
    "4-Ingresar dos numeros por teclado ,a y b.Si a es = b,imprimir \"1\".Si a es mayor que b imprimir \"2\",y sino imprimir \"3\"."
   ]
  },
  {
   "cell_type": "code",
   "execution_count": 10,
   "metadata": {},
   "outputs": [
    {
     "name": "stdout",
     "output_type": "stream",
     "text": [
      "2\n"
     ]
    }
   ],
   "source": [
    "a=int(input(\"el numero es:a\"))\n",
    "b=int(input(\"el numero es :b\"))\n",
    "if a==b:\n",
    "    print(1)\n",
    "elif a>b:\n",
    "    print(2)\n",
    "else:\n",
    "    print(3)        "
   ]
  },
  {
   "cell_type": "markdown",
   "metadata": {},
   "source": [
    "5-Ingrese 4 numeros por teclado :a,b,c,d.Si a es = b y c= d.Imprimir \"hola poliyecnico malvinas."
   ]
  },
  {
   "cell_type": "code",
   "execution_count": 15,
   "metadata": {},
   "outputs": [
    {
     "name": "stdout",
     "output_type": "stream",
     "text": [
      "hola politecnico\n"
     ]
    }
   ],
   "source": [
    "a=int(input(\"el numero es:a\"))\n",
    "b=int(input(\"el numero es:b\"))\n",
    "c=int(input(\"el numero es:c\"))\n",
    "d=int(input(\"el numero es:d\"))\n",
    "if a==b and c==d:\n",
    "   print(\"hola politecnico\")\n"
   ]
  },
  {
   "cell_type": "markdown",
   "metadata": {},
   "source": [
    "6- Ingrese cuatro números por teclado a, b, c y d. Si a es igual b ó c es igual a d, imprimir ‘Hola Politécnico Malvinas’ "
   ]
  },
  {
   "cell_type": "code",
   "execution_count": 18,
   "metadata": {},
   "outputs": [
    {
     "name": "stdout",
     "output_type": "stream",
     "text": [
      "Hola Politecnico Malvinas\n"
     ]
    }
   ],
   "source": [
    "a=int(input(\"el numero es:a\"))\n",
    "b=int(input(\"el numero es:b\"))\n",
    "c=int(input(\"el numero es:c\"))\n",
    "d=int(input(\"el numero es:d\"))\n",
    "if a ==b or c==d:\n",
    "    print(\"Hola Politecnico Malvinas\")"
   ]
  },
  {
   "cell_type": "markdown",
   "metadata": {},
   "source": [
    "7-Ingresar la edad de una persona por teclado, mostrar por pantalla si es mayor o menor de edad. "
   ]
  },
  {
   "cell_type": "code",
   "execution_count": 22,
   "metadata": {},
   "outputs": [
    {
     "name": "stdout",
     "output_type": "stream",
     "text": [
      "es mayor de edad\n"
     ]
    }
   ],
   "source": [
    "edad = int(input(\"ingrese su edad\"))\n",
    "if edad > 18:\n",
    "    print(\"es mayor de edad\")\n",
    "else :\n",
    "    print(\"es menor de edad\")    "
   ]
  },
  {
   "cell_type": "markdown",
   "metadata": {},
   "source": [
    "8-Ingresar un número por teclado y mostrar por pantalla si es para o impar. "
   ]
  },
  {
   "cell_type": "code",
   "execution_count": 24,
   "metadata": {},
   "outputs": [
    {
     "name": "stdout",
     "output_type": "stream",
     "text": [
      "el numero 9 es impar\n"
     ]
    }
   ],
   "source": [
    "numero_1 = int(input(\"ingrese un numero:\"))\n",
    "if numero_1  %2==0:\n",
    "    print(\"el numero es\",numero_1,\"es par\")\n",
    "else:\n",
    "    print(\"el numero\",numero_1,\"es impar\")    "
   ]
  },
  {
   "cell_type": "markdown",
   "metadata": {},
   "source": [
    "10- Ingresar por teclado un nombre, si la variable nombre, no es nula mostrar por pantalla ‘Bienvenido ‘+ nombre, sino mostrar ‘Bienvenido anónimo’ "
   ]
  },
  {
   "cell_type": "code",
   "execution_count": 29,
   "metadata": {},
   "outputs": [
    {
     "name": "stdout",
     "output_type": "stream",
     "text": [
      "bienvenido \n"
     ]
    }
   ],
   "source": [
    "nombre= input(\"ingrese su nombre\")\n",
    "if nombre != 0:\n",
    "    print(\"bienvenido\",nombre)\n",
    "else:\n",
    "    print(\"bienvenido anonimo\")    \n"
   ]
  }
 ],
 "metadata": {
  "kernelspec": {
   "display_name": "Python 3",
   "language": "python",
   "name": "python3"
  },
  "language_info": {
   "codemirror_mode": {
    "name": "ipython",
    "version": 3
   },
   "file_extension": ".py",
   "mimetype": "text/x-python",
   "name": "python",
   "nbconvert_exporter": "python",
   "pygments_lexer": "ipython3",
   "version": "3.11.5"
  }
 },
 "nbformat": 4,
 "nbformat_minor": 2
}
