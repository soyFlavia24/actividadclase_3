{
 "cells": [
  {
   "cell_type": "code",
   "execution_count": null,
   "metadata": {},
   "outputs": [],
   "source": []
  },
  {
   "cell_type": "markdown",
   "metadata": {},
   "source": [
    "##ACTIVIDAD CLASE PDF\n",
    "1- Ingresar dos numeros por teclado a y b .Si a es mayor que b,imprimir \"hola politecnico malvinas\"\n"
   ]
  },
  {
   "cell_type": "code",
   "execution_count": 2,
   "metadata": {},
   "outputs": [
    {
     "name": "stdout",
     "output_type": "stream",
     "text": [
      "hola politecnico malvinas\n"
     ]
    }
   ],
   "source": [
    "a=int(input(\"numero:1\"))\n",
    "b=int(input(\"numero:2\"))\n",
    "if a>b:\n",
    "    print(\"hola politecnico malvinas\")\n"
   ]
  },
  {
   "cell_type": "markdown",
   "metadata": {},
   "source": [
    "2- Ingresar dos numeros por teclado ,a y b.Si no es igual a b,imprimir \"hola politecnico malvinas\""
   ]
  },
  {
   "cell_type": "code",
   "execution_count": 3,
   "metadata": {},
   "outputs": [
    {
     "name": "stdout",
     "output_type": "stream",
     "text": [
      "hola politecnico malvinas\n"
     ]
    }
   ],
   "source": [
    "a=int(input(\"numero:1\"))\n",
    "b=int(input(\"numero:2\"))\n",
    "if a!=b:\n",
    "    print(\"hola politecnico malvinas\")\n",
    "    "
   ]
  },
  {
   "cell_type": "markdown",
   "metadata": {},
   "source": []
  }
 ],
 "metadata": {
  "kernelspec": {
   "display_name": "Python 3",
   "language": "python",
   "name": "python3"
  },
  "language_info": {
   "codemirror_mode": {
    "name": "ipython",
    "version": 3
   },
   "file_extension": ".py",
   "mimetype": "text/x-python",
   "name": "python",
   "nbconvert_exporter": "python",
   "pygments_lexer": "ipython3",
   "version": "3.11.5"
  }
 },
 "nbformat": 4,
 "nbformat_minor": 2
}
