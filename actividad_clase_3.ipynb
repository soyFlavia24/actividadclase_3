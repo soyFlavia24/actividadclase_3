{
 "cells": [
  {
   "cell_type": "code",
   "execution_count": null,
   "metadata": {},
   "outputs": [],
   "source": []
  },
  {
   "cell_type": "markdown",
   "metadata": {},
   "source": [
    "Título y Subtítulo:\n",
    "\n",
    "Agregar un título descriptivo para el archivo.\n",
    "Incluir un subtítulo que indique el tipo de ejercicios que se van a realizar."
   ]
  },
  {
   "cell_type": "code",
   "execution_count": 2,
   "metadata": {},
   "outputs": [],
   "source": [
    "# Ejercicios Complejos\n",
    "## Datos Simples"
   ]
  },
  {
   "cell_type": "markdown",
   "metadata": {},
   "source": [
    "Crear una lista de nombres de ciudades.\n",
    "Crear un diccionario con información de empleados (nombre, cargo, salario)."
   ]
  },
  {
   "cell_type": "code",
   "execution_count": 52,
   "metadata": {},
   "outputs": [],
   "source": [
    "ciudades = [\"Rio Grande\",\"Tolhuin\",\"Ushuahia\",\"Rio Gallegos\"]\n",
    "empleados_info ={\"Escobar Juan\":{\"cargo\":\"encargado\",\"sueldo\":2000000},\n",
    "                  \"Vivas Maria\":{\"cargo\":\"contadora\",\"sueldo\":2100000},\n",
    "                  \"Rodriguez Norma\":{\"cargo\":\"vendedora\",\"sueldo\":1000000}}"
   ]
  },
  {
   "cell_type": "markdown",
   "metadata": {},
   "source": [
    "Mostrar cómo acceder a un elemento específico en una lista y en un diccionario."
   ]
  },
  {
   "cell_type": "code",
   "execution_count": 37,
   "metadata": {},
   "outputs": [
    {
     "name": "stdout",
     "output_type": "stream",
     "text": [
      "Rio Grande\n"
     ]
    }
   ],
   "source": [
    "# EN UNA LISTA\n",
    "\n",
    "ciudades=[\"Rio Grande\",\"Tolhuin\",\"Ushuahia\",\"Rio Gallegos\"]\n",
    "print(ciudades[0])"
   ]
  },
  {
   "cell_type": "code",
   "execution_count": 38,
   "metadata": {},
   "outputs": [
    {
     "name": "stdout",
     "output_type": "stream",
     "text": [
      "{'cargo': 'encargado', 'sueldo': 2000000}\n"
     ]
    }
   ],
   "source": [
    "# EN UN DICCIONARIO\n",
    "print(empleados_info.get(\"Escobar Juan\"))"
   ]
  },
  {
   "cell_type": "code",
   "execution_count": 54,
   "metadata": {},
   "outputs": [
    {
     "name": "stdout",
     "output_type": "stream",
     "text": [
      "{'cargo': 'encargado', 'sueldo': 2000000}\n"
     ]
    }
   ],
   "source": [
    "print(empleados_info[\"Escobar Juan\"])"
   ]
  },
  {
   "cell_type": "markdown",
   "metadata": {},
   "source": [
    "Manipulación de Listas y Métodos"
   ]
  },
  {
   "cell_type": "code",
   "execution_count": 12,
   "metadata": {},
   "outputs": [],
   "source": [
    "#Manipulacion de Listas y Metodos\n"
   ]
  },
  {
   "cell_type": "markdown",
   "metadata": {},
   "source": [
    "Crea una lista inicial de números enteros.\n",
    "Utiliza el método .append() para agregar un número al final de la lista.\n",
    "Utiliza el método .extend() para agregar múltiples elementos a la lista.\n",
    "Utiliza el método .insert() para insertar un número en una posición específica de la lista.\n",
    "Muestra cómo utilizar el método .sort() para ordenar la lista de números de forma ascendente."
   ]
  },
  {
   "cell_type": "code",
   "execution_count": 59,
   "metadata": {},
   "outputs": [
    {
     "name": "stdout",
     "output_type": "stream",
     "text": [
      "[20, 30, 40, 50]\n"
     ]
    }
   ],
   "source": [
    "numeros_enteros =[20,30,40,50]\n",
    "print(numeros_enteros)"
   ]
  },
  {
   "cell_type": "code",
   "execution_count": 60,
   "metadata": {},
   "outputs": [],
   "source": [
    "numeros_enteros.append(66)"
   ]
  },
  {
   "cell_type": "code",
   "execution_count": 61,
   "metadata": {},
   "outputs": [
    {
     "name": "stdout",
     "output_type": "stream",
     "text": [
      "[20, 30, 40, 50, 66]\n"
     ]
    }
   ],
   "source": [
    "print(numeros_enteros)"
   ]
  },
  {
   "cell_type": "code",
   "execution_count": 64,
   "metadata": {},
   "outputs": [
    {
     "name": "stdout",
     "output_type": "stream",
     "text": [
      "[20, 30, 40, 50, 66, 77, 3, 9]\n"
     ]
    }
   ],
   "source": [
    "numeros_impares=[77,3,9]\n",
    "numeros_enteros.extend(numeros_impares)\n",
    "print(numeros_enteros)"
   ]
  },
  {
   "cell_type": "code",
   "execution_count": 65,
   "metadata": {},
   "outputs": [
    {
     "name": "stdout",
     "output_type": "stream",
     "text": [
      "[20, 30, 40, 50, 8, 66, 77, 3, 9]\n"
     ]
    }
   ],
   "source": [
    "numeros_enteros.insert(4,8)\n",
    "print(numeros_enteros)"
   ]
  },
  {
   "cell_type": "code",
   "execution_count": 66,
   "metadata": {},
   "outputs": [
    {
     "name": "stdout",
     "output_type": "stream",
     "text": [
      "[3, 8, 9, 20, 30, 40, 50, 66, 77]\n"
     ]
    }
   ],
   "source": [
    "numeros_enteros.sort()\n",
    "print(numeros_enteros)"
   ]
  },
  {
   "cell_type": "markdown",
   "metadata": {},
   "source": [
    "Manipulación de Diccionarios y Métodos:\n",
    "\n",
    "\n",
    "\n",
    "\n",
    "\n"
   ]
  },
  {
   "cell_type": "markdown",
   "metadata": {},
   "source": [
    "Crea un diccionario con información de productos (nombre del producto, precio, cantidad en stock)."
   ]
  },
  {
   "cell_type": "code",
   "execution_count": 58,
   "metadata": {},
   "outputs": [
    {
     "name": "stdout",
     "output_type": "stream",
     "text": [
      "{'CUADERNO': {'precio': 3500, 'stock': 500}, 'LAPIZ': {'precio': 1500, 'stock': 1000}, 'CALCULADORA': {'precio': 10000, 'stock': 300}}\n"
     ]
    }
   ],
   "source": [
    "productos = {\"CUADERNO\":{\"precio\":3500,\"stock\":500},\n",
    "             \"LAPIZ\":{\"precio\":1500,\"stock\":1000},\n",
    "             \"CALCULADORA\":{\"precio\":10000,\"stock\":300}}\n",
    "print(productos)\n",
    "\n"
   ]
  },
  {
   "cell_type": "markdown",
   "metadata": {},
   "source": [
    "Utiliza el método .items() para obtener una lista de tuplas con pares clave-valor del diccionario.\n"
   ]
  },
  {
   "cell_type": "code",
   "execution_count": 48,
   "metadata": {},
   "outputs": [
    {
     "data": {
      "text/plain": [
       "dict_items([('CUADERNO', {'precio': 3500, 'stock': 500}), ('LAPIZ', {'precio': 1500, 'stock': 1000}), ('CALCULADORA', {'precio': 10000, 'stock': 300})])"
      ]
     },
     "execution_count": 48,
     "metadata": {},
     "output_type": "execute_result"
    }
   ],
   "source": [
    "productos.items()"
   ]
  },
  {
   "cell_type": "markdown",
   "metadata": {},
   "source": [
    "Utiliza el método .keys() para obtener una lista de las llaves (nombres de productos) en el diccionario."
   ]
  },
  {
   "cell_type": "code",
   "execution_count": 49,
   "metadata": {},
   "outputs": [
    {
     "name": "stdout",
     "output_type": "stream",
     "text": [
      "dict_keys(['CUADERNO', 'LAPIZ', 'CALCULADORA'])\n"
     ]
    }
   ],
   "source": [
    "print(productos.keys())\n"
   ]
  },
  {
   "cell_type": "markdown",
   "metadata": {},
   "source": [
    "Utiliza el método .values() para obtener una lista de los valores (precios y cantidades) en el diccionario."
   ]
  },
  {
   "cell_type": "code",
   "execution_count": 50,
   "metadata": {},
   "outputs": [
    {
     "data": {
      "text/plain": [
       "dict_values([{'precio': 3500, 'stock': 500}, {'precio': 1500, 'stock': 1000}, {'precio': 10000, 'stock': 300}])"
      ]
     },
     "execution_count": 50,
     "metadata": {},
     "output_type": "execute_result"
    }
   ],
   "source": [
    "productos.values()"
   ]
  },
  {
   "cell_type": "markdown",
   "metadata": {},
   "source": [
    "Muestra cómo utilizar el método .get() para obtener el precio de un producto específico del diccionario."
   ]
  },
  {
   "cell_type": "code",
   "execution_count": 60,
   "metadata": {},
   "outputs": [
    {
     "data": {
      "text/plain": [
       "{'precio': 1500, 'stock': 1000}"
      ]
     },
     "execution_count": 60,
     "metadata": {},
     "output_type": "execute_result"
    }
   ],
   "source": [
    "productos.get(\"LAPIZ\",(\"precio\"))"
   ]
  },
  {
   "cell_type": "markdown",
   "metadata": {},
   "source": [
    "Datos Complejos:\n",
    "\n",
    "\n",
    "\n",
    "\n",
    "Entrega de la Tarea:"
   ]
  },
  {
   "cell_type": "markdown",
   "metadata": {},
   "source": [
    "Crear una lista de diccionarios que represente información de libros (título, autor, año de publicación)."
   ]
  },
  {
   "cell_type": "code",
   "execution_count": 62,
   "metadata": {},
   "outputs": [],
   "source": [
    "libros={\"El Nombre De La Rosa\":{\"autor\":\"Humberto Eco\",\"año de publicacion\":1980},\n",
    "        \"Coma\":{\"autor\":\"Roobin Cook\",\"año de publicacion\":1977},\n",
    "        \"Mafalda\":{\"autor\":\"Quino\",\"año de publicacion\":1964}}"
   ]
  },
  {
   "cell_type": "markdown",
   "metadata": {},
   "source": [
    "Crear un diccionario que contenga listas como valores (por ejemplo, un diccionario de estudiantes y sus materias)."
   ]
  },
  {
   "cell_type": "code",
   "execution_count": 92,
   "metadata": {},
   "outputs": [
    {
     "name": "stdout",
     "output_type": "stream",
     "text": [
      "{'Lautaro Escobar': ['lengua', 'matematicas', 'ingles'], 'Carolina Sanchez': ['lengua', 'Programacion', 'historia'], 'Gael Navarro': ['ingles', 'lengua', 'geografia']}\n"
     ]
    }
   ],
   "source": [
    "alumnos ={\"Lautaro Escobar\":[\"lengua\",\"matematicas\",\"ingles\"],\n",
    "          \"Carolina Sanchez\":[\"lengua\",\"Programacion\",\"historia\"],\n",
    "          \"Gael Navarro\":[\"ingles\",\"lengua\",\"geografia\"]}\n",
    "print(alumnos)\n"
   ]
  },
  {
   "cell_type": "markdown",
   "metadata": {},
   "source": [
    "Mostrar cómo modificar un valor en una lista dentro de un diccionario y viceversa."
   ]
  },
  {
   "cell_type": "code",
   "execution_count": 93,
   "metadata": {},
   "outputs": [],
   "source": [
    "alumnos[\"Carolina Sanchez\"][2] = \"ingles\""
   ]
  },
  {
   "cell_type": "code",
   "execution_count": 95,
   "metadata": {},
   "outputs": [
    {
     "name": "stdout",
     "output_type": "stream",
     "text": [
      "['lengua', 'Programacion', 'ingles']\n"
     ]
    }
   ],
   "source": [
    "print(alumnos[\"Carolina Sanchez\"])"
   ]
  },
  {
   "cell_type": "markdown",
   "metadata": {},
   "source": [
    "y viceversa"
   ]
  },
  {
   "cell_type": "code",
   "execution_count": 5,
   "metadata": {},
   "outputs": [],
   "source": [
    "alumno_0={\"carrera\":\"programacion\",\"cursadas\":3,\"promedio\":7}\n",
    "alumno_1={\"carrera\":\"programacion\",\"cursadas\":4,\"promedio\":6}\n",
    "alumno_2={\"carrera\":\"programacion\",\"cursadas\":7,\"promedio\":7}\n",
    "alumno=[alumno_0,alumno_1,alumno_2]"
   ]
  },
  {
   "cell_type": "code",
   "execution_count": 6,
   "metadata": {},
   "outputs": [
    {
     "name": "stdout",
     "output_type": "stream",
     "text": [
      "[{'carrera': 'programacion', 'cursadas': 3, 'promedio': 7}, {'carrera': 'programacion', 'cursadas': 4, 'promedio': 6}, {'carrera': 'programacion', 'cursadas': 7, 'promedio': 7}]\n"
     ]
    }
   ],
   "source": [
    "print(alumno)"
   ]
  },
  {
   "cell_type": "code",
   "execution_count": 8,
   "metadata": {},
   "outputs": [
    {
     "name": "stdout",
     "output_type": "stream",
     "text": [
      "6\n"
     ]
    }
   ],
   "source": [
    "print(alumno_1[\"promedio\"])"
   ]
  }
 ],
 "metadata": {
  "kernelspec": {
   "display_name": "Python 3",
   "language": "python",
   "name": "python3"
  },
  "language_info": {
   "codemirror_mode": {
    "name": "ipython",
    "version": 3
   },
   "file_extension": ".py",
   "mimetype": "text/x-python",
   "name": "python",
   "nbconvert_exporter": "python",
   "pygments_lexer": "ipython3",
   "version": "3.11.5"
  }
 },
 "nbformat": 4,
 "nbformat_minor": 2
}
